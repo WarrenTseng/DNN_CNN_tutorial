{
 "cells": [
  {
   "cell_type": "code",
   "execution_count": 2,
   "metadata": {
    "collapsed": true
   },
   "outputs": [],
   "source": [
    "import matplotlib.pyplot as plt\n",
    "import numpy as np\n",
    "import tensorflow as tf"
   ]
  },
  {
   "cell_type": "markdown",
   "metadata": {},
   "source": [
    "# Load the MNIST dataset"
   ]
  },
  {
   "cell_type": "code",
   "execution_count": 3,
   "metadata": {},
   "outputs": [
    {
     "name": "stdout",
     "output_type": "stream",
     "text": [
      "number: 5\n"
     ]
    },
    {
     "data": {
      "image/png": "[encoded data removed]",
      "text/plain": [
       "<matplotlib.figure.Figure at 0x7f1964447b70>"
      ]
     },
     "metadata": {},
     "output_type": "display_data"
    }
   ],
   "source": [
    "# read images\n",
    "with open('./Data/train-images.idx3-ubyte', 'rb') as f:\n",
    "    # procedure:\n",
    "    # -> read data\n",
    "    # -> to list\n",
    "    # -> ignore first 16 bytes\n",
    "    # -> to np.ndarray\n",
    "    # -> reshape data\n",
    "    imgs = np.array(list(f.read())[16:]).reshape([60000, 28, 28])\n",
    "\n",
    "# read labels\n",
    "with open('./Data/train-labels.idx1-ubyte', 'rb') as f:\n",
    "    labels = np.array(list(f.read())[8:])\n",
    "\n",
    "# show the first label and image\n",
    "print('number:', labels[0])\n",
    "plt.imshow(imgs[0], cmap='gray')\n",
    "plt.show()\n",
    "\n",
    "# reshape the image data from 3-D to 2-D required to feed NN\n",
    "imgs = imgs.reshape([60000, 28*28]).astype('float32') # 784\n",
    "# split into training set and testing set\n",
    "imgs_test = imgs[50000:]\n",
    "imgs = imgs[:50000]"
   ]
  },
  {
   "cell_type": "markdown",
   "metadata": {},
   "source": [
    "- One-hot encoding"
   ]
  },
  {
   "cell_type": "code",
   "execution_count": 4,
   "metadata": {
    "collapsed": true
   },
   "outputs": [],
   "source": [
    "labels_onehot = list()\n",
    "for i in range(labels.shape[0]):\n",
    "    # create zero array [0, 0, 0, 0, 0, 0, 0, 0, 0, 0]\n",
    "    onehot = np.zeros(10)\n",
    "    # if label == 5  ->  [0, 0, 0, 0, 0, 1, 0, 0, 0, 0]\n",
    "    onehot[labels[i]] = 1\n",
    "    labels_onehot.append(onehot)\n",
    "labels_onehot = np.array(labels_onehot).astype('float32')\n",
    "\n",
    "# split into training set and testing set\n",
    "labels_onehot_test = labels_onehot[50000:]\n",
    "labels_onehot = labels_onehot[:50000]"
   ]
  },
  {
   "cell_type": "code",
   "execution_count": 5,
   "metadata": {},
   "outputs": [
    {
     "data": {
      "text/plain": [
       "((50000, 784), (50000, 10))"
      ]
     },
     "execution_count": 5,
     "metadata": {},
     "output_type": "execute_result"
    }
   ],
   "source": [
    "imgs.shape, labels_onehot.shape"
   ]
  },
  {
   "cell_type": "markdown",
   "metadata": {},
   "source": [
    "# Build the network"
   ]
  },
  {
   "cell_type": "markdown",
   "metadata": {},
   "source": [
    "## *The overall structure*\n",
    "\n",
    "<img src=\"./imgs/DNN_ALL_mnist.png\" width=\"60%\" height=\"60%\">"
   ]
  },
  {
   "cell_type": "markdown",
   "metadata": {},
   "source": [
    "## <span style=\"color:blue\">Dropout\n",
    "- <span style=\"color:blue\">Strength: prevent overfitting\n",
    "- <span style=\"color:blue\">Weakness: reduce the training efficiency</span>"
   ]
  },
  {
   "cell_type": "markdown",
   "metadata": {},
   "source": [
    "### Define the hyperparameter"
   ]
  },
  {
   "cell_type": "code",
   "execution_count": 6,
   "metadata": {
    "collapsed": true
   },
   "outputs": [],
   "source": [
    "epoch = 3\n",
    "batch_size = 200\n",
    "n_inp = 784\n",
    "n_layer1 = 1024\n",
    "n_layer2 = 1024\n",
    "n_out = 10\n",
    "l_r = 1e-3\n",
    "keep_prob = .8 # the probability for dropout function"
   ]
  },
  {
   "cell_type": "markdown",
   "metadata": {},
   "source": [
    "## *<span style=\"color:red\">●Step 1</span>: Construct the input and real label holders*\n",
    "\n",
    "<img src=\"./imgs/DNN_xy_mnist.png\" width=\"60%\" height=\"60%\">"
   ]
  },
  {
   "cell_type": "code",
   "execution_count": 7,
   "metadata": {
    "collapsed": true
   },
   "outputs": [],
   "source": [
    "x = tf.placeholder(tf.float32, shape=[None, n_inp], name='input')\n",
    "y = tf.placeholder(tf.float32, shape=[None, n_out], name='output')"
   ]
  },
  {
   "cell_type": "markdown",
   "metadata": {},
   "source": [
    "## *<span style=\"color:red\">●Step 2</span>:Define the weight and bias creating function*"
   ]
  },
  {
   "cell_type": "code",
   "execution_count": 8,
   "metadata": {
    "collapsed": true
   },
   "outputs": [],
   "source": [
    "def _weight(shape):\n",
    "    initial = tf.truncated_normal(mean=0, stddev=.5, shape=shape)\n",
    "    return tf.Variable(initial)\n",
    "def _bias(shape):\n",
    "    initial = tf.constant(1, shape=shape, dtype=tf.float32)\n",
    "    return tf.Variable(initial)"
   ]
  },
  {
   "cell_type": "markdown",
   "metadata": {},
   "source": [
    "## *<span style=\"color:red\">●Step 3</span>:Input layer to the 1st hidden layer*\n",
    "\n",
    "<img src=\"./imgs/DNN_input2first_mnist.png\" width=\"60%\" height=\"60%\">"
   ]
  },
  {
   "cell_type": "code",
   "execution_count": 9,
   "metadata": {
    "collapsed": true
   },
   "outputs": [],
   "source": [
    "w1 = _weight([n_inp, n_layer1])\n",
    "b1 = _bias([n_layer1])\n",
    "# procedure:\n",
    "# -> matrix multiply: input and weight of layer 1\n",
    "# -> add the bias\n",
    "# -> activation function: relu\n",
    "# -> dropout to prevent over-fitting\n",
    "layer1 = tf.nn.dropout(tf.nn.relu(tf.matmul(x, w1) + b1), keep_prob=keep_prob)"
   ]
  },
  {
   "cell_type": "markdown",
   "metadata": {},
   "source": [
    "## *<span style=\"color:red\">●Step 4</span>: The 1st layer to the 2nd hidden layer*\n",
    "\n",
    "<img src=\"./imgs/DNN_first2second_mnist.png\" width=\"60%\" height=\"60%\">"
   ]
  },
  {
   "cell_type": "code",
   "execution_count": 10,
   "metadata": {
    "collapsed": true
   },
   "outputs": [],
   "source": [
    "w2 = _weight([n_layer1, n_layer2])\n",
    "b2 = _bias([n_layer2])\n",
    "layer2 = tf.nn.dropout(tf.nn.relu(tf.matmul(layer1, w2) + b2), keep_prob=keep_prob)"
   ]
  },
  {
   "cell_type": "markdown",
   "metadata": {},
   "source": [
    "## *<span style=\"color:red\">●Step 5</span>: The 2nd layer to the output layer*\n",
    "\n",
    "<img src=\"./imgs/DNN_second2output_mnist.png\" width=\"60%\" height=\"60%\">"
   ]
  },
  {
   "cell_type": "code",
   "execution_count": 11,
   "metadata": {
    "collapsed": true
   },
   "outputs": [],
   "source": [
    "w_out = _weight([n_layer2, n_out])\n",
    "b_out = _bias([n_out])\n",
    "_pred = tf.matmul(layer2, w_out) + b_out\n",
    "pred = tf.nn.softmax(_pred, name='prediction')"
   ]
  },
  {
   "cell_type": "markdown",
   "metadata": {},
   "source": [
    "## *<span style=\"color:red\">●Step 6</span>: The cost function and optimizer*\n",
    "\n",
    "<img src=\"./imgs/DNN_cost_mnist.png\" width=\"60%\" height=\"60%\">"
   ]
  },
  {
   "cell_type": "code",
   "execution_count": 12,
   "metadata": {
    "collapsed": true
   },
   "outputs": [],
   "source": [
    "loss = tf.reduce_mean(tf.nn.softmax_cross_entropy_with_logits(logits=_pred, labels=y))\n",
    "# calculate the accuracy by the fed label and predicted result over the input batch data\n",
    "accu = tf.reduce_mean(tf.cast(tf.equal(tf.argmax(pred, 1), tf.argmax(y, 1)), tf.float32))\n",
    "op = tf.train.AdamOptimizer(l_r)\n",
    "update_step = op.minimize(loss)"
   ]
  },
  {
   "cell_type": "markdown",
   "metadata": {},
   "source": [
    "## *<span style=\"color:red\">●Step 7</span>: Open a new NN session and initialize the variables*"
   ]
  },
  {
   "cell_type": "code",
   "execution_count": 13,
   "metadata": {
    "collapsed": true
   },
   "outputs": [],
   "source": [
    "init = tf.global_variables_initializer()\n",
    "sess = tf.Session()\n",
    "sess.run(init)"
   ]
  },
  {
   "cell_type": "markdown",
   "metadata": {},
   "source": [
    "## *<span style=\"color:red\">●Step 8</span>: Training and record the loss and accuracy*"
   ]
  },
  {
   "cell_type": "code",
   "execution_count": 14,
   "metadata": {},
   "outputs": [
    {
     "name": "stdout",
     "output_type": "stream",
     "text": [
      "Epoch: 1 , train loss: 19971.2 , train accu: 0.76588 , test loss: 6696.03 , test accu: 0.8833\n",
      "Epoch: 2 , train loss: 5333.03 , train accu: 0.8902 , test loss: 3821.96 , test accu: 0.9112\n",
      "Epoch: 3 , train loss: 3137.79 , train accu: 0.9145 , test loss: 2822.36 , test accu: 0.9233\n"
     ]
    }
   ],
   "source": [
    "loss_list = list()\n",
    "accu_list = list()\n",
    "loss_list_test = list()\n",
    "accu_list_test = list()\n",
    "for epo in range(epoch):\n",
    "    l_list = list()\n",
    "    a_list = list()\n",
    "    for i in range(int(len(imgs)/batch_size)):\n",
    "        batch_x = imgs[i*batch_size:i*batch_size+batch_size]\n",
    "        batch_y = labels_onehot[i*batch_size:i*batch_size+batch_size]\n",
    "        feed_dict = {x:batch_x, y:batch_y}\n",
    "        _, l, a = sess.run([update_step, loss, accu], feed_dict=feed_dict)\n",
    "        l_list.append(l)\n",
    "        a_list.append(a)\n",
    "    loss_list.append(np.mean(l_list))\n",
    "    accu_list.append(np.mean(a_list))\n",
    "    batch_x = imgs_test\n",
    "    batch_y = labels_onehot_test\n",
    "    feed_dict = {x:batch_x, y:batch_y}\n",
    "    l, a = sess.run([loss, accu], feed_dict=feed_dict)\n",
    "    loss_list_test.append(l)\n",
    "    accu_list_test.append(a)\n",
    "    print('Epoch:', epo+1,\n",
    "          ', train loss:', loss_list[epo],\n",
    "          ', train accu:', accu_list[epo],\n",
    "          ', test loss:', l,\n",
    "          ', test accu:', a)"
   ]
  },
  {
   "cell_type": "code",
   "execution_count": null,
   "metadata": {
    "collapsed": true
   },
   "outputs": [],
   "source": []
  }
 ],
 "metadata": {
  "kernelspec": {
   "display_name": "Python 3",
   "language": "python",
   "name": "python3"
  },
  "language_info": {
   "codemirror_mode": {
    "name": "ipython",
    "version": 3
   },
   "file_extension": ".py",
   "mimetype": "text/x-python",
   "name": "python",
   "nbconvert_exporter": "python",
   "pygments_lexer": "ipython3",
   "version": "3.5.2"
  }
 },
 "nbformat": 4,
 "nbformat_minor": 2
}
