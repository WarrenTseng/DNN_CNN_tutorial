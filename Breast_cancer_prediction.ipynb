{
 "cells": [
  {
   "cell_type": "code",
   "execution_count": 1,
   "metadata": {
    "collapsed": true
   },
   "outputs": [],
   "source": [
    "from sklearn import datasets # to read the breast cancer dataset\n",
    "import numpy as np # math\n",
    "import tensorflow as tf # deep learning\n",
    "import matplotlib.pyplot as plt # the plot tool"
   ]
  },
  {
   "cell_type": "markdown",
   "metadata": {},
   "source": [
    "## Load the breast cancer dataset"
   ]
  },
  {
   "cell_type": "code",
   "execution_count": 2,
   "metadata": {
    "collapsed": true
   },
   "outputs": [],
   "source": [
    "breast_cancer = datasets.load_breast_cancer()\n",
    "X = breast_cancer.data\n",
    "Y = breast_cancer.target.reshape([-1, 1])"
   ]
  },
  {
   "cell_type": "code",
   "execution_count": 3,
   "metadata": {},
   "outputs": [
    {
     "data": {
      "text/plain": [
       "((569, 30), (569, 1))"
      ]
     },
     "execution_count": 3,
     "metadata": {},
     "output_type": "execute_result"
    }
   ],
   "source": [
    "# the features and labels shape\n",
    "X.shape, Y.shape"
   ]
  },
  {
   "cell_type": "markdown",
   "metadata": {},
   "source": [
    "# **Build the network**"
   ]
  },
  {
   "cell_type": "markdown",
   "metadata": {},
   "source": [
    "## *The overall structure*"
   ]
  },
  {
   "cell_type": "markdown",
   "metadata": {},
   "source": [
    "<img src=\"./imgs/DNN_ALL_cancer.png\" width=\"60%\" height=\"60%\">"
   ]
  },
  {
   "cell_type": "markdown",
   "metadata": {},
   "source": [
    "## *<span style=\"color:red\">●Step 1</span>: Define the input and real label holders*"
   ]
  },
  {
   "cell_type": "markdown",
   "metadata": {},
   "source": [
    "<img src=\"./imgs/DNN_xy_cancer.png\" width=\"60%\" height=\"60%\">"
   ]
  },
  {
   "cell_type": "code",
   "execution_count": 4,
   "metadata": {
    "collapsed": true
   },
   "outputs": [],
   "source": [
    "x = tf.placeholder(dtype=tf.float32, shape=[None, 30], name='input')\n",
    "y = tf.placeholder(dtype=tf.float32, shape=[None, 1], name='prediction')"
   ]
  },
  {
   "cell_type": "markdown",
   "metadata": {},
   "source": [
    "## *<span style=\"color:red\">●Step 2</span>: Define the weight and bias creating function*"
   ]
  },
  {
   "cell_type": "code",
   "execution_count": 5,
   "metadata": {
    "collapsed": true
   },
   "outputs": [],
   "source": [
    "def _weight(shape):\n",
    "    initial = tf.truncated_normal(mean=0, stddev=.5, shape=shape)\n",
    "    return tf.Variable(initial)\n",
    "def _bias(shape):\n",
    "    initial = tf.constant(.25, shape=shape)\n",
    "    return tf.Variable(initial)"
   ]
  },
  {
   "cell_type": "markdown",
   "metadata": {},
   "source": [
    "## *<span style=\"color:red\">●Step 3</span>: Input layer to the 1st hidden layer*"
   ]
  },
  {
   "cell_type": "markdown",
   "metadata": {},
   "source": [
    "<img src=\"./imgs/DNN_input2first_cancer.png\" width=\"60%\" height=\"60%\">"
   ]
  },
  {
   "cell_type": "code",
   "execution_count": 8,
   "metadata": {
    "collapsed": true
   },
   "outputs": [],
   "source": [
    "w_1 = _weight([30, 128])\n",
    "b_1 = _bias([128])\n",
    "L1 = tf.nn.relu(tf.add(tf.matmul(x, w_1), b_1))"
   ]
  },
  {
   "cell_type": "markdown",
   "metadata": {},
   "source": [
    "## *<span style=\"color:red\">●Step 4</span>: The 1st layer to the 2nd hidden layer*"
   ]
  },
  {
   "cell_type": "markdown",
   "metadata": {},
   "source": [
    "<img src=\"./imgs/DNN_first2second_cancer.png\" width=\"60%\" height=\"60%\">"
   ]
  },
  {
   "cell_type": "code",
   "execution_count": 11,
   "metadata": {
    "collapsed": true
   },
   "outputs": [],
   "source": [
    "w_2 = _weight([128, 128])\n",
    "b_2 = _bias([128])\n",
    "L2 = tf.nn.relu(tf.add(tf.matmul(L1, w_2), b_2))"
   ]
  },
  {
   "cell_type": "markdown",
   "metadata": {},
   "source": [
    "## *<span style=\"color:red\">●Step 5</span>: The 2nd layer to the output layer*"
   ]
  },
  {
   "cell_type": "markdown",
   "metadata": {},
   "source": [
    "<img src=\"./imgs/DNN_second2output_cancer.png\" width=\"60%\" height=\"60%\">"
   ]
  },
  {
   "cell_type": "code",
   "execution_count": 12,
   "metadata": {
    "collapsed": true
   },
   "outputs": [],
   "source": [
    "w_3 = _weight([128, 1])\n",
    "b_3 = _bias([1])\n",
    "_pred = tf.add(tf.matmul(L2, w_3), b_3)\n",
    "pred = tf.sigmoid(_pred)"
   ]
  },
  {
   "cell_type": "markdown",
   "metadata": {
    "collapsed": true
   },
   "source": [
    "## *<span style=\"color:red\">●Step 6</span>: The cost function and optimizer*\n",
    "\n",
    "<img src=\"./imgs/DNN_cost_cancer.png\" width=\"60%\" height=\"60%\">"
   ]
  },
  {
   "cell_type": "code",
   "execution_count": 13,
   "metadata": {
    "collapsed": true
   },
   "outputs": [],
   "source": [
    "loss = tf.losses.sigmoid_cross_entropy(multi_class_labels=y,\n",
    "                                       logits=_pred,)\n",
    "op = tf.train.AdamOptimizer(learning_rate=1e-3)\n",
    "update_step = op.minimize(loss)"
   ]
  },
  {
   "cell_type": "markdown",
   "metadata": {},
   "source": [
    "## *<span style=\"color:red\">●Step 7</span>: Open a new NN session and initialize the variables*"
   ]
  },
  {
   "cell_type": "code",
   "execution_count": 14,
   "metadata": {
    "collapsed": true
   },
   "outputs": [],
   "source": [
    "sess = tf.Session()\n",
    "init = tf.global_variables_initializer()\n",
    "sess.run(init)"
   ]
  },
  {
   "cell_type": "markdown",
   "metadata": {
    "collapsed": true
   },
   "source": [
    "## *<span style=\"color:red\">●Step 8</span>: Training and record the loss and accuracy*"
   ]
  },
  {
   "cell_type": "code",
   "execution_count": 15,
   "metadata": {},
   "outputs": [
    {
     "name": "stdout",
     "output_type": "stream",
     "text": [
      "Epoch: 1 , Loss(train): [ 784.979] , Accu(train): [ 0.568] , Loss(test): [ 451.854] , Accu(test): [ 0.769]\n",
      "Epoch: 2 , Loss(train): [ 327.846] , Accu(train): [ 0.432] , Loss(test): [ 467.396] , Accu(test): [ 0.231]\n",
      "Epoch: 3 , Loss(train): [ 61.271] , Accu(train): [ 0.627] , Loss(test): [ 33.272] , Accu(test): [ 0.799]\n",
      "Epoch: 4 , Loss(train): [ 4.748] , Accu(train): [ 0.91] , Loss(test): [ 3.615] , Accu(test): [ 0.917]\n",
      "Epoch: 5 , Loss(train): [ 5.123] , Accu(train): [ 0.86] , Loss(test): [ 11.324] , Accu(test): [ 0.746]\n",
      "Epoch: 6 , Loss(train): [ 4.042] , Accu(train): [ 0.902] , Loss(test): [ 6.84] , Accu(test): [ 0.828]\n",
      "Epoch: 7 , Loss(train): [ 3.873] , Accu(train): [ 0.922] , Loss(test): [ 4.667] , Accu(test): [ 0.858]\n",
      "Epoch: 8 , Loss(train): [ 3.653] , Accu(train): [ 0.915] , Loss(test): [ 5.341] , Accu(test): [ 0.84]\n",
      "Epoch: 9 , Loss(train): [ 3.689] , Accu(train): [ 0.922] , Loss(test): [ 3.984] , Accu(test): [ 0.876]\n",
      "Epoch: 10 , Loss(train): [ 3.413] , Accu(train): [ 0.915] , Loss(test): [ 5.379] , Accu(test): [ 0.84]\n"
     ]
    }
   ],
   "source": [
    "epoch = 10\n",
    "batch_size = 20\n",
    "losses_train = list()\n",
    "losses_test = list()\n",
    "accus_train = list()\n",
    "accus_test = list()\n",
    "np.set_printoptions(precision=3)\n",
    "for epo in range(epoch):\n",
    "    # training\n",
    "    for i in range(20):\n",
    "        batch_x = X[i*batch_size:i*batch_size+batch_size]\n",
    "        batch_y = Y[i*batch_size:i*batch_size+batch_size]\n",
    "        feed_dict = {x:batch_x, y:batch_y}\n",
    "        _ = sess.run([update_step], feed_dict=feed_dict)\n",
    "    # evaluation\n",
    "    batch_x = X[:400]\n",
    "    batch_y = Y[:400]\n",
    "    feed_dict = {x:batch_x, y:batch_y}\n",
    "    p, l = sess.run([pred, loss], feed_dict=feed_dict)\n",
    "    accu = (400 - np.sum(np.abs(batch_y - p.astype('int'))))/400\n",
    "    losses_train.append(l)\n",
    "    accus_train.append(accu)\n",
    "    l_train = np.array([l])\n",
    "    accu_train = np.array([accu])\n",
    "    \n",
    "    batch_x = X[400:]\n",
    "    batch_y = Y[400:]\n",
    "    feed_dict = {x:batch_x, y:batch_y}\n",
    "    p, l = sess.run([pred, loss], feed_dict=feed_dict)\n",
    "    accu = (169 - np.sum(np.abs(batch_y - p.astype('int'))))/169\n",
    "    losses_test.append(l)\n",
    "    accus_test.append(accu)\n",
    "    l_test = np.array([l])\n",
    "    accu_test = np.array([accu])\n",
    "    print('Epoch:', epo+1,\n",
    "          ', Loss(train):', l_train,\n",
    "          ', Accu(train):', accu_train,\n",
    "          ', Loss(test):', l_test,\n",
    "          ', Accu(test):', accu_test)"
   ]
  },
  {
   "cell_type": "markdown",
   "metadata": {},
   "source": [
    "- Plot the loss and accuracy"
   ]
  },
  {
   "cell_type": "code",
   "execution_count": 16,
   "metadata": {},
   "outputs": [
    {
     "data": {
      "image/png": "[encoded data removed]",
      "text/plain": [
       "<matplotlib.figure.Figure at 0x7fbe7f57be48>"
      ]
     },
     "metadata": {},
     "output_type": "display_data"
    },
    {
     "data": {
      "image/png": "[encoded data removed]",
      "text/plain": [
       "<matplotlib.figure.Figure at 0x7fbe7c4e8a90>"
      ]
     },
     "metadata": {},
     "output_type": "display_data"
    }
   ],
   "source": [
    "plt.plot(np.arange(epoch)+1, losses_train, 'b')\n",
    "plt.plot(np.arange(epoch)+1, losses_test, '--r')\n",
    "plt.legend(['train', 'test'])\n",
    "plt.title('loss')\n",
    "plt.show()\n",
    "\n",
    "plt.plot(np.arange(epoch)+1, accus_train, 'b')\n",
    "plt.plot(np.arange(epoch)+1, accus_test, '--r')\n",
    "plt.legend(['train', 'test'])\n",
    "plt.title('accuracy')\n",
    "plt.show()"
   ]
  },
  {
   "cell_type": "code",
   "execution_count": null,
   "metadata": {
    "collapsed": true
   },
   "outputs": [],
   "source": []
  }
 ],
 "metadata": {
  "kernelspec": {
   "display_name": "Python 3",
   "language": "python",
   "name": "python3"
  },
  "language_info": {
   "codemirror_mode": {
    "name": "ipython",
    "version": 3
   },
   "file_extension": ".py",
   "mimetype": "text/x-python",
   "name": "python",
   "nbconvert_exporter": "python",
   "pygments_lexer": "ipython3",
   "version": "3.5.2"
  }
 },
 "nbformat": 4,
 "nbformat_minor": 2
}
